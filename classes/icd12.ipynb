{
  "cells": [
    {
      "cell_type": "markdown",
      "id": "43730a8d-ece6-4ce0-a311-f81ed54a98b2",
      "metadata": {
        "id": "43730a8d-ece6-4ce0-a311-f81ed54a98b2"
      },
      "source": [
        "# Intro a los modelos de clasificación"
      ]
    },
    {
      "cell_type": "markdown",
      "id": "727ea2b7-fb0f-4b66-85eb-0f18f62418d0",
      "metadata": {
        "id": "727ea2b7-fb0f-4b66-85eb-0f18f62418d0"
      },
      "source": [
        "Se construirán modelos de clasificación a partir de un conjunto de algoritmos de inferencia y el dataset de Iris, los cuales serán evaluados con los siguientes métodos:\n",
        "- 1 clasificador y hold-out\n",
        "- Múltiples clasificadores y hold-out\n",
        "- 1 clasificador y validación cruzada\n",
        "- Múltiples clasificadores y validación cruzada\n",
        "\n",
        "Recordar que los modelos una vez evaluados, pueden ser reentrenados con el conjunto completo de datos para hacer predicciones posteriores."
      ]
    },
    {
      "cell_type": "markdown",
      "id": "68d553e7-9bcc-4e0f-9aeb-ee1bcc91e786",
      "metadata": {
        "id": "68d553e7-9bcc-4e0f-9aeb-ee1bcc91e786"
      },
      "source": [
        "### Datos"
      ]
    },
    {
      "cell_type": "code",
      "execution_count": 1,
      "id": "48d1c5d8-3cc6-435e-a7e9-33d548acc4f0",
      "metadata": {
        "id": "48d1c5d8-3cc6-435e-a7e9-33d548acc4f0"
      },
      "outputs": [],
      "source": [
        "import matplotlib.pyplot as plt\n",
        "import seaborn as sns\n",
        "import numpy as np\n",
        "# Importar datos\n",
        "from sklearn.datasets import load_iris\n",
        "iris = load_iris()\n",
        "\n",
        "# Crear un DataFrame de Pandas\n",
        "import pandas as pd\n",
        "df = pd.DataFrame(data=iris.data, columns=iris.feature_names)\n",
        "df['species'] = iris.target\n",
        "\n",
        "# Separar vector de características (X_i) y etiquetas (y)\n",
        "X = df.drop('species', axis=1)\n",
        "y = df['species']"
      ]
    },
    {
      "cell_type": "code",
      "execution_count": 2,
      "id": "005e6d06",
      "metadata": {
        "id": "005e6d06"
      },
      "outputs": [],
      "source": [
        "def calculate_confusion_matrix(y_true, y_pred):\n",
        "    y_true = np.array(y_true)\n",
        "    y_pred = np.array(y_pred)\n",
        "    labels = np.unique(y_true)\n",
        "    confusion_matrix = np.zeros((len(labels), len(labels)))\n",
        "    for i in range(y_true.shape[0]):\n",
        "        true_index = np.where(labels == y_true[i])[0]\n",
        "        pred_index = np.where(labels == y_pred[i])[0]\n",
        "        confusion_matrix[true_index,pred_index] += 1\n",
        "\n",
        "    return confusion_matrix"
      ]
    },
    {
      "cell_type": "markdown",
      "id": "b26ff9a0-1351-4afa-a01b-bd654545169e",
      "metadata": {
        "id": "b26ff9a0-1351-4afa-a01b-bd654545169e"
      },
      "source": [
        "### Algoritmos de inferencia"
      ]
    },
    {
      "cell_type": "code",
      "execution_count": 3,
      "id": "f70be15e-575d-49cf-b071-df5fc823acfe",
      "metadata": {
        "id": "f70be15e-575d-49cf-b071-df5fc823acfe"
      },
      "outputs": [],
      "source": [
        "from sklearn.naive_bayes import GaussianNB\n",
        "from sklearn.tree import DecisionTreeClassifier\n",
        "from sklearn.neighbors import KNeighborsClassifier\n",
        "from sklearn.svm import SVC\n",
        "\n",
        "# Establecer algoritmos de inferencia\n",
        "models = {\n",
        "    \"Naive Bayes\": GaussianNB(),\n",
        "    \"C4.5 (Decision Tree)\": DecisionTreeClassifier(),\n",
        "    \"k-Nearest Neighbors\": KNeighborsClassifier(),\n",
        "    \"Support Vector Machine\": SVC()\n",
        "}"
      ]
    },
    {
      "cell_type": "markdown",
      "id": "f493e916-0986-4243-a8a9-5fdf8eafeeca",
      "metadata": {
        "id": "f493e916-0986-4243-a8a9-5fdf8eafeeca"
      },
      "source": [
        "## Hold-out validation"
      ]
    },
    {
      "cell_type": "code",
      "execution_count": 4,
      "id": "accc1059-c789-4f8e-a3ee-75c7e1434176",
      "metadata": {
        "colab": {
          "base_uri": "https://localhost:8080/"
        },
        "id": "accc1059-c789-4f8e-a3ee-75c7e1434176",
        "outputId": "a508ceb8-5eef-4696-ab8f-a764de7fa701"
      },
      "outputs": [
        {
          "output_type": "stream",
          "name": "stdout",
          "text": [
            "(120, 4) (120,)\n",
            "(30, 4) (30,)\n"
          ]
        }
      ],
      "source": [
        "# Partición de los datos 80% training, 20% testing\n",
        "from sklearn.model_selection import train_test_split\n",
        "\n",
        "X_train, X_test, y_train, y_test = train_test_split(X, y, test_size=0.2, random_state=0)\n",
        "\n",
        "print(X_train.shape, y_train.shape)\n",
        "print(X_test.shape, y_test.shape)"
      ]
    },
    {
      "cell_type": "markdown",
      "id": "27833dd6-90da-4f7f-95ef-9c5abb5b2f39",
      "metadata": {
        "id": "27833dd6-90da-4f7f-95ef-9c5abb5b2f39"
      },
      "source": [
        "### Un modelo"
      ]
    },
    {
      "cell_type": "code",
      "execution_count": 5,
      "id": "fcae0457-17f1-488d-b34c-f08a0fae65be",
      "metadata": {
        "colab": {
          "base_uri": "https://localhost:8080/"
        },
        "id": "fcae0457-17f1-488d-b34c-f08a0fae65be",
        "outputId": "4269bf9f-6e79-4648-c30c-555085ff02d6"
      },
      "outputs": [
        {
          "output_type": "stream",
          "name": "stdout",
          "text": [
            "0.9666666666666667\n"
          ]
        }
      ],
      "source": [
        "# Construir modelo con datos de training\n",
        "clf = GaussianNB().fit(X_train, y_train)\n",
        "\n",
        "# Evaluar modelo con datos de testing (mostrar accuracy)\n",
        "print(clf.score(X_test, y_test))\n",
        "\n",
        "y_pred = clf.predict(X_test)"
      ]
    },
    {
      "cell_type": "code",
      "execution_count": 15,
      "id": "6e4d38bb",
      "metadata": {
        "colab": {
          "base_uri": "https://localhost:8080/",
          "height": 466
        },
        "id": "6e4d38bb",
        "outputId": "cab0a98b-5e17-48f3-ece3-c51402d5fd54"
      },
      "outputs": [
        {
          "output_type": "execute_result",
          "data": {
            "text/plain": [
              "Text(0.5, 23.52222222222222, 'Predicted label')"
            ]
          },
          "metadata": {},
          "execution_count": 15
        },
        {
          "output_type": "display_data",
          "data": {
            "text/plain": [
              "<Figure size 640x480 with 2 Axes>"
            ],
            "image/png": "[encoded data removed]"
          },
          "metadata": {}
        }
      ],
      "source": [
        "confusion_matrix = calculate_confusion_matrix(y_test, y_pred)\n",
        "sns.heatmap(confusion_matrix, annot=True, fmt='.0f')\n",
        "plt.ylabel('True label')\n",
        "plt.xlabel('Predicted label')"
      ]
    },
    {
      "cell_type": "markdown",
      "id": "38dfdf46-c704-44bf-99c6-d5bc4dc6221d",
      "metadata": {
        "id": "38dfdf46-c704-44bf-99c6-d5bc4dc6221d"
      },
      "source": [
        "### Varios modelos"
      ]
    },
    {
      "cell_type": "code",
      "execution_count": 7,
      "id": "f114de1b-36ec-4f2b-8c9c-e9f66f0ba039",
      "metadata": {
        "colab": {
          "base_uri": "https://localhost:8080/"
        },
        "id": "f114de1b-36ec-4f2b-8c9c-e9f66f0ba039",
        "outputId": "9dd40830-1c92-4159-ba27-2eb6ae99c95a"
      },
      "outputs": [
        {
          "output_type": "stream",
          "name": "stdout",
          "text": [
            "Naive Bayes: 0.9667\n",
            "C4.5 (Decision Tree): 1.0000\n",
            "k-Nearest Neighbors: 0.9667\n",
            "Support Vector Machine: 1.0000\n"
          ]
        }
      ],
      "source": [
        "results = {}\n",
        "for name, model in models.items():\n",
        "    clf = model.fit(X_train, y_train)\n",
        "    cv_results = clf.score(X_test, y_test)\n",
        "    results[name] = cv_results\n",
        "    print(f\"{name}: {cv_results:.4f}\")"
      ]
    },
    {
      "cell_type": "markdown",
      "id": "f569bf6e-323d-4b8e-b940-5191c5d1c087",
      "metadata": {
        "id": "f569bf6e-323d-4b8e-b940-5191c5d1c087"
      },
      "source": [
        "## Validación cruzada"
      ]
    },
    {
      "cell_type": "markdown",
      "id": "f83c0da2-473b-49dc-b797-87f7e8f3e1c7",
      "metadata": {
        "id": "f83c0da2-473b-49dc-b797-87f7e8f3e1c7"
      },
      "source": [
        "### Un modelo"
      ]
    },
    {
      "cell_type": "markdown",
      "id": "16496181-9cc3-4bec-a292-dd142426a216",
      "metadata": {
        "id": "16496181-9cc3-4bec-a292-dd142426a216"
      },
      "source": [
        "*** Forma simple: cross_val_score"
      ]
    },
    {
      "cell_type": "code",
      "execution_count": 8,
      "id": "aa0567c4-607a-401f-a4b4-587574573dd5",
      "metadata": {
        "colab": {
          "base_uri": "https://localhost:8080/"
        },
        "id": "aa0567c4-607a-401f-a4b4-587574573dd5",
        "outputId": "a0666497-95cd-48c2-d7c7-53ceb17daabd"
      },
      "outputs": [
        {
          "output_type": "stream",
          "name": "stdout",
          "text": [
            "Resultados para cada iteración:  [0.93333333 0.96666667 0.93333333 0.93333333 1.        ]\n",
            "Resultado promedio:  0.9533333333333334\n"
          ]
        }
      ],
      "source": [
        "from sklearn.model_selection import cross_val_score\n",
        "\n",
        "clf = GaussianNB()\n",
        "\n",
        "# Training y testing en una sola función\n",
        "scores = cross_val_score(clf, X, y, cv=5)\n",
        "\n",
        "print(\"Resultados para cada iteración: \", scores)\n",
        "\n",
        "print(\"Resultado promedio: \", scores.mean())"
      ]
    },
    {
      "cell_type": "markdown",
      "id": "0c6bbfce-9475-4b62-b04d-76b86c1404f4",
      "metadata": {
        "id": "0c6bbfce-9475-4b62-b04d-76b86c1404f4"
      },
      "source": [
        "*** Otra forma: kfold (con .fit  y .score)"
      ]
    },
    {
      "cell_type": "code",
      "execution_count": 9,
      "id": "7bbfa62c-176f-49ed-8e67-6cfbab10e908",
      "metadata": {
        "id": "7bbfa62c-176f-49ed-8e67-6cfbab10e908"
      },
      "outputs": [],
      "source": [
        "from sklearn.model_selection import StratifiedKFold\n",
        "\n",
        "# Realizar particiones de los datos\n",
        "skf = StratifiedKFold(n_splits=5, shuffle=True, random_state=0)\n",
        "\n",
        "# Visualizar los índices para las particiones\n",
        "#for train, test in skf.split(X, y): print(\"%s %s\" % (train, test))"
      ]
    },
    {
      "cell_type": "code",
      "execution_count": 10,
      "id": "0fd61dd3-028a-42d5-ac3b-53323a756a9d",
      "metadata": {
        "colab": {
          "base_uri": "https://localhost:8080/"
        },
        "id": "0fd61dd3-028a-42d5-ac3b-53323a756a9d",
        "outputId": "054a973c-c16d-4189-aea1-47c7dbe8107d"
      },
      "outputs": [
        {
          "output_type": "stream",
          "name": "stdout",
          "text": [
            "Fold accuracy:  0.9666666666666667\n",
            "Fold accuracy:  0.9666666666666667\n",
            "Fold accuracy:  0.9333333333333333\n",
            "Fold accuracy:  0.9666666666666667\n",
            "Fold accuracy:  0.9666666666666667\n",
            "Overall Accuracy: 0.96\n",
            "Standard Deviation is: 0.014907119849998594\n"
          ]
        }
      ],
      "source": [
        "acc_scores = []\n",
        "\n",
        "for train_index, test_index in skf.split(X, y):\n",
        "    # Particiones para training\n",
        "    X_train_fold = X.iloc[train_index]\n",
        "    y_train_fold = y.iloc[train_index]\n",
        "    # Particiones para testing\n",
        "    X_test_fold = X.iloc[test_index]\n",
        "    y_test_fold = y.iloc[test_index]\n",
        "    # Entrenamiento del modelo\n",
        "    clf = GaussianNB().fit(X_train_fold, y_train_fold)\n",
        "    # Evaluación de modelo y se acumula el accuracy\n",
        "    acc = clf.score(X_test_fold, y_test_fold)\n",
        "    print(\"Fold accuracy: \", acc)\n",
        "    acc_scores.append(acc)\n",
        "    y_pred_fold = clf.predict(X_test_fold)\n",
        "\n",
        "from statistics import mean, stdev\n",
        "print('Overall Accuracy:', mean(acc_scores))\n",
        "print('Standard Deviation is:', stdev(acc_scores))"
      ]
    },
    {
      "cell_type": "code",
      "execution_count": 16,
      "id": "5a9811df",
      "metadata": {
        "colab": {
          "base_uri": "https://localhost:8080/",
          "height": 472
        },
        "id": "5a9811df",
        "outputId": "0f68c6b7-96b4-4a58-c9b6-b9eeb4bdf97d"
      },
      "outputs": [
        {
          "output_type": "execute_result",
          "data": {
            "text/plain": [
              "Text(0.5, 23.52222222222222, 'Predicted label')"
            ]
          },
          "metadata": {},
          "execution_count": 16
        },
        {
          "output_type": "display_data",
          "data": {
            "text/plain": [
              "<Figure size 640x480 with 2 Axes>"
            ],
            "image/png": "[encoded data removed]"
          },
          "metadata": {}
        }
      ],
      "source": [
        "confusion_matrix = calculate_confusion_matrix(y_test_fold, y_pred_fold)\n",
        "sns.heatmap(confusion_matrix, annot=True, fmt='.0f')\n",
        "plt.ylabel('True label')\n",
        "plt.xlabel('Predicted label')"
      ]
    },
    {
      "cell_type": "markdown",
      "id": "25191f1b-5e13-425e-aad9-6203fc31ede7",
      "metadata": {
        "id": "25191f1b-5e13-425e-aad9-6203fc31ede7"
      },
      "source": [
        "### Varios modelos"
      ]
    },
    {
      "cell_type": "code",
      "execution_count": 12,
      "id": "9e16acae-b827-42bc-a379-a896f65a1d19",
      "metadata": {
        "colab": {
          "base_uri": "https://localhost:8080/",
          "height": 1000
        },
        "id": "9e16acae-b827-42bc-a379-a896f65a1d19",
        "outputId": "526ccecb-dea4-4465-9beb-a40dfb1503b1"
      },
      "outputs": [
        {
          "output_type": "stream",
          "name": "stdout",
          "text": [
            "Fold accuracy:  0.9666666666666667\n",
            "Fold accuracy:  0.9666666666666667\n",
            "Fold accuracy:  0.9333333333333333\n",
            "Fold accuracy:  0.9666666666666667\n",
            "Fold accuracy:  0.9666666666666667\n",
            "Naive Bayes: Avg accuracy 0.9600\n",
            "              precision    recall  f1-score   support\n",
            "\n",
            "           0       1.00      1.00      1.00        10\n",
            "           1       0.91      1.00      0.95        10\n",
            "           2       1.00      0.90      0.95        10\n",
            "\n",
            "    accuracy                           0.97        30\n",
            "   macro avg       0.97      0.97      0.97        30\n",
            "weighted avg       0.97      0.97      0.97        30\n",
            "\n",
            "Fold accuracy:  0.9666666666666667\n",
            "Fold accuracy:  0.9666666666666667\n",
            "Fold accuracy:  0.8666666666666667\n",
            "Fold accuracy:  0.9666666666666667\n",
            "Fold accuracy:  0.9333333333333333\n",
            "C4.5 (Decision Tree): Avg accuracy 0.9400\n",
            "              precision    recall  f1-score   support\n",
            "\n",
            "           0       1.00      1.00      1.00        10\n",
            "           1       0.90      0.90      0.90        10\n",
            "           2       0.90      0.90      0.90        10\n",
            "\n",
            "    accuracy                           0.93        30\n",
            "   macro avg       0.93      0.93      0.93        30\n",
            "weighted avg       0.93      0.93      0.93        30\n",
            "\n",
            "Fold accuracy:  0.9666666666666667\n",
            "Fold accuracy:  0.9666666666666667\n",
            "Fold accuracy:  0.9333333333333333\n",
            "Fold accuracy:  0.9666666666666667\n",
            "Fold accuracy:  0.9333333333333333\n",
            "k-Nearest Neighbors: Avg accuracy 0.9533\n",
            "              precision    recall  f1-score   support\n",
            "\n",
            "           0       1.00      1.00      1.00        10\n",
            "           1       0.90      0.90      0.90        10\n",
            "           2       0.90      0.90      0.90        10\n",
            "\n",
            "    accuracy                           0.93        30\n",
            "   macro avg       0.93      0.93      0.93        30\n",
            "weighted avg       0.93      0.93      0.93        30\n",
            "\n",
            "Fold accuracy:  1.0\n",
            "Fold accuracy:  0.9666666666666667\n",
            "Fold accuracy:  0.9333333333333333\n",
            "Fold accuracy:  0.9666666666666667\n",
            "Fold accuracy:  0.9\n",
            "Support Vector Machine: Avg accuracy 0.9533\n",
            "              precision    recall  f1-score   support\n",
            "\n",
            "           0       1.00      1.00      1.00        10\n",
            "           1       0.82      0.90      0.86        10\n",
            "           2       0.89      0.80      0.84        10\n",
            "\n",
            "    accuracy                           0.90        30\n",
            "   macro avg       0.90      0.90      0.90        30\n",
            "weighted avg       0.90      0.90      0.90        30\n",
            "\n"
          ]
        },
        {
          "output_type": "display_data",
          "data": {
            "text/plain": [
              "<Figure size 1600x300 with 8 Axes>"
            ],
            "image/png": "[encoded data removed]"
          },
          "metadata": {}
        }
      ],
      "source": [
        "from sklearn.metrics import accuracy_score, classification_report, precision_score, recall_score, f1_score\n",
        "import pandas as pd\n",
        "fig, axs = plt.subplots(1,4)\n",
        "i = 0\n",
        "\n",
        "results_data = {'model': [], 'accuracy': [], 'precision': [], 'recall': [], 'f1': []}\n",
        "# Iterar sobre los modelos\n",
        "for name, model in models.items():\n",
        "    acc_scores = []\n",
        "    # Iterar sobre las particiones de los datos\n",
        "    for train_index, test_index in skf.split(X, y):\n",
        "        # Particiones para training y testing\n",
        "        X_train_fold, X_test_fold = X.iloc[train_index], X.iloc[test_index]\n",
        "        y_train_fold, y_test_fold = y.iloc[train_index], y.iloc[test_index]\n",
        "        # Entrenamiento y evaluación del modelo\n",
        "        model.fit(X_train_fold, y_train_fold)\n",
        "        y_predict = model.predict(X_test_fold)\n",
        "        acc = accuracy_score(y_test_fold, y_predict)\n",
        "        print(\"Fold accuracy: \", acc)\n",
        "        acc_scores.append(acc)\n",
        "\n",
        "        results_data['model'].append(name)\n",
        "        results_data['accuracy'].append(acc)\n",
        "        results_data['precision'].append(precision_score(y_test_fold, y_predict, average='macro'))\n",
        "        results_data['recall'].append(recall_score(y_test_fold, y_predict, average='macro'))\n",
        "        results_data['f1'].append(f1_score(y_test_fold, y_predict, average='macro'))\n",
        "\n",
        "\n",
        "    confusion_matrix = calculate_confusion_matrix(y_test_fold, y_predict)\n",
        "    sns.heatmap(confusion_matrix, annot=True, fmt='.0f', ax=axs[i])\n",
        "    axs[i].set_title(name)\n",
        "    i += 1\n",
        "\n",
        "    avg_acc = sum(acc_scores)/len(acc_scores)\n",
        "    print(f\"{name}: Avg accuracy {avg_acc:.4f}\")\n",
        "    print(classification_report(y_test_fold, y_predict))\n",
        "\n",
        "fig.set_figheight(3)\n",
        "fig.set_figwidth(16)"
      ]
    },
    {
      "cell_type": "code",
      "execution_count": 13,
      "id": "c03d1f52",
      "metadata": {
        "colab": {
          "base_uri": "https://localhost:8080/",
          "height": 206
        },
        "id": "c03d1f52",
        "outputId": "4a84b0db-faef-422f-f734-efdda4a9c01c"
      },
      "outputs": [
        {
          "output_type": "execute_result",
          "data": {
            "text/plain": [
              "         model  accuracy  precision    recall        f1\n",
              "0  Naive Bayes  0.966667   0.969697  0.966667  0.966583\n",
              "1  Naive Bayes  0.966667   0.969697  0.966667  0.966583\n",
              "2  Naive Bayes  0.933333   0.944444  0.933333  0.932660\n",
              "3  Naive Bayes  0.966667   0.969697  0.966667  0.966583\n",
              "4  Naive Bayes  0.966667   0.969697  0.966667  0.966583"
            ],
            "text/html": [
              "\n",
              "  <div id=\"df-dab52b6a-fdf4-454d-9470-d970e15f7f2f\" class=\"colab-df-container\">\n",
              "    <div>\n",
              "<style scoped>\n",
              "    .dataframe tbody tr th:only-of-type {\n",
              "        vertical-align: middle;\n",
              "    }\n",
              "\n",
              "    .dataframe tbody tr th {\n",
              "        vertical-align: top;\n",
              "    }\n",
              "\n",
              "    .dataframe thead th {\n",
              "        text-align: right;\n",
              "    }\n",
              "</style>\n",
              "<table border=\"1\" class=\"dataframe\">\n",
              "  <thead>\n",
              "    <tr style=\"text-align: right;\">\n",
              "      <th></th>\n",
              "      <th>model</th>\n",
              "      <th>accuracy</th>\n",
              "      <th>precision</th>\n",
              "      <th>recall</th>\n",
              "      <th>f1</th>\n",
              "    </tr>\n",
              "  </thead>\n",
              "  <tbody>\n",
              "    <tr>\n",
              "      <th>0</th>\n",
              "      <td>Naive Bayes</td>\n",
              "      <td>0.966667</td>\n",
              "      <td>0.969697</td>\n",
              "      <td>0.966667</td>\n",
              "      <td>0.966583</td>\n",
              "    </tr>\n",
              "    <tr>\n",
              "      <th>1</th>\n",
              "      <td>Naive Bayes</td>\n",
              "      <td>0.966667</td>\n",
              "      <td>0.969697</td>\n",
              "      <td>0.966667</td>\n",
              "      <td>0.966583</td>\n",
              "    </tr>\n",
              "    <tr>\n",
              "      <th>2</th>\n",
              "      <td>Naive Bayes</td>\n",
              "      <td>0.933333</td>\n",
              "      <td>0.944444</td>\n",
              "      <td>0.933333</td>\n",
              "      <td>0.932660</td>\n",
              "    </tr>\n",
              "    <tr>\n",
              "      <th>3</th>\n",
              "      <td>Naive Bayes</td>\n",
              "      <td>0.966667</td>\n",
              "      <td>0.969697</td>\n",
              "      <td>0.966667</td>\n",
              "      <td>0.966583</td>\n",
              "    </tr>\n",
              "    <tr>\n",
              "      <th>4</th>\n",
              "      <td>Naive Bayes</td>\n",
              "      <td>0.966667</td>\n",
              "      <td>0.969697</td>\n",
              "      <td>0.966667</td>\n",
              "      <td>0.966583</td>\n",
              "    </tr>\n",
              "  </tbody>\n",
              "</table>\n",
              "</div>\n",
              "    <div class=\"colab-df-buttons\">\n",
              "\n",
              "  <div class=\"colab-df-container\">\n",
              "    <button class=\"colab-df-convert\" onclick=\"convertToInteractive('df-dab52b6a-fdf4-454d-9470-d970e15f7f2f')\"\n",
              "            title=\"Convert this dataframe to an interactive table.\"\n",
              "            style=\"display:none;\">\n",
              "\n",
              "  <svg xmlns=\"http://www.w3.org/2000/svg\" height=\"24px\" viewBox=\"0 -960 960 960\">\n",
              "    <path d=\"M120-120v-720h720v720H120Zm60-500h600v-160H180v160Zm220 220h160v-160H400v160Zm0 220h160v-160H400v160ZM180-400h160v-160H180v160Zm440 0h160v-160H620v160ZM180-180h160v-160H180v160Zm440 0h160v-160H620v160Z\"/>\n",
              "  </svg>\n",
              "    </button>\n",
              "\n",
              "  <style>\n",
              "    .colab-df-container {\n",
              "      display:flex;\n",
              "      gap: 12px;\n",
              "    }\n",
              "\n",
              "    .colab-df-convert {\n",
              "      background-color: #E8F0FE;\n",
              "      border: none;\n",
              "      border-radius: 50%;\n",
              "      cursor: pointer;\n",
              "      display: none;\n",
              "      fill: #1967D2;\n",
              "      height: 32px;\n",
              "      padding: 0 0 0 0;\n",
              "      width: 32px;\n",
              "    }\n",
              "\n",
              "    .colab-df-convert:hover {\n",
              "      background-color: #E2EBFA;\n",
              "      box-shadow: 0px 1px 2px rgba(60, 64, 67, 0.3), 0px 1px 3px 1px rgba(60, 64, 67, 0.15);\n",
              "      fill: #174EA6;\n",
              "    }\n",
              "\n",
              "    .colab-df-buttons div {\n",
              "      margin-bottom: 4px;\n",
              "    }\n",
              "\n",
              "    [theme=dark] .colab-df-convert {\n",
              "      background-color: #3B4455;\n",
              "      fill: #D2E3FC;\n",
              "    }\n",
              "\n",
              "    [theme=dark] .colab-df-convert:hover {\n",
              "      background-color: #434B5C;\n",
              "      box-shadow: 0px 1px 3px 1px rgba(0, 0, 0, 0.15);\n",
              "      filter: drop-shadow(0px 1px 2px rgba(0, 0, 0, 0.3));\n",
              "      fill: #FFFFFF;\n",
              "    }\n",
              "  </style>\n",
              "\n",
              "    <script>\n",
              "      const buttonEl =\n",
              "        document.querySelector('#df-dab52b6a-fdf4-454d-9470-d970e15f7f2f button.colab-df-convert');\n",
              "      buttonEl.style.display =\n",
              "        google.colab.kernel.accessAllowed ? 'block' : 'none';\n",
              "\n",
              "      async function convertToInteractive(key) {\n",
              "        const element = document.querySelector('#df-dab52b6a-fdf4-454d-9470-d970e15f7f2f');\n",
              "        const dataTable =\n",
              "          await google.colab.kernel.invokeFunction('convertToInteractive',\n",
              "                                                    [key], {});\n",
              "        if (!dataTable) return;\n",
              "\n",
              "        const docLinkHtml = 'Like what you see? Visit the ' +\n",
              "          '<a target=\"_blank\" href=https://colab.research.google.com/notebooks/data_table.ipynb>data table notebook</a>'\n",
              "          + ' to learn more about interactive tables.';\n",
              "        element.innerHTML = '';\n",
              "        dataTable['output_type'] = 'display_data';\n",
              "        await google.colab.output.renderOutput(dataTable, element);\n",
              "        const docLink = document.createElement('div');\n",
              "        docLink.innerHTML = docLinkHtml;\n",
              "        element.appendChild(docLink);\n",
              "      }\n",
              "    </script>\n",
              "  </div>\n",
              "\n",
              "\n",
              "<div id=\"df-b5f56062-0178-4a79-8202-63075ef40f8f\">\n",
              "  <button class=\"colab-df-quickchart\" onclick=\"quickchart('df-b5f56062-0178-4a79-8202-63075ef40f8f')\"\n",
              "            title=\"Suggest charts\"\n",
              "            style=\"display:none;\">\n",
              "\n",
              "<svg xmlns=\"http://www.w3.org/2000/svg\" height=\"24px\"viewBox=\"0 0 24 24\"\n",
              "     width=\"24px\">\n",
              "    <g>\n",
              "        <path d=\"M19 3H5c-1.1 0-2 .9-2 2v14c0 1.1.9 2 2 2h14c1.1 0 2-.9 2-2V5c0-1.1-.9-2-2-2zM9 17H7v-7h2v7zm4 0h-2V7h2v10zm4 0h-2v-4h2v4z\"/>\n",
              "    </g>\n",
              "</svg>\n",
              "  </button>\n",
              "\n",
              "<style>\n",
              "  .colab-df-quickchart {\n",
              "      --bg-color: #E8F0FE;\n",
              "      --fill-color: #1967D2;\n",
              "      --hover-bg-color: #E2EBFA;\n",
              "      --hover-fill-color: #174EA6;\n",
              "      --disabled-fill-color: #AAA;\n",
              "      --disabled-bg-color: #DDD;\n",
              "  }\n",
              "\n",
              "  [theme=dark] .colab-df-quickchart {\n",
              "      --bg-color: #3B4455;\n",
              "      --fill-color: #D2E3FC;\n",
              "      --hover-bg-color: #434B5C;\n",
              "      --hover-fill-color: #FFFFFF;\n",
              "      --disabled-bg-color: #3B4455;\n",
              "      --disabled-fill-color: #666;\n",
              "  }\n",
              "\n",
              "  .colab-df-quickchart {\n",
              "    background-color: var(--bg-color);\n",
              "    border: none;\n",
              "    border-radius: 50%;\n",
              "    cursor: pointer;\n",
              "    display: none;\n",
              "    fill: var(--fill-color);\n",
              "    height: 32px;\n",
              "    padding: 0;\n",
              "    width: 32px;\n",
              "  }\n",
              "\n",
              "  .colab-df-quickchart:hover {\n",
              "    background-color: var(--hover-bg-color);\n",
              "    box-shadow: 0 1px 2px rgba(60, 64, 67, 0.3), 0 1px 3px 1px rgba(60, 64, 67, 0.15);\n",
              "    fill: var(--button-hover-fill-color);\n",
              "  }\n",
              "\n",
              "  .colab-df-quickchart-complete:disabled,\n",
              "  .colab-df-quickchart-complete:disabled:hover {\n",
              "    background-color: var(--disabled-bg-color);\n",
              "    fill: var(--disabled-fill-color);\n",
              "    box-shadow: none;\n",
              "  }\n",
              "\n",
              "  .colab-df-spinner {\n",
              "    border: 2px solid var(--fill-color);\n",
              "    border-color: transparent;\n",
              "    border-bottom-color: var(--fill-color);\n",
              "    animation:\n",
              "      spin 1s steps(1) infinite;\n",
              "  }\n",
              "\n",
              "  @keyframes spin {\n",
              "    0% {\n",
              "      border-color: transparent;\n",
              "      border-bottom-color: var(--fill-color);\n",
              "      border-left-color: var(--fill-color);\n",
              "    }\n",
              "    20% {\n",
              "      border-color: transparent;\n",
              "      border-left-color: var(--fill-color);\n",
              "      border-top-color: var(--fill-color);\n",
              "    }\n",
              "    30% {\n",
              "      border-color: transparent;\n",
              "      border-left-color: var(--fill-color);\n",
              "      border-top-color: var(--fill-color);\n",
              "      border-right-color: var(--fill-color);\n",
              "    }\n",
              "    40% {\n",
              "      border-color: transparent;\n",
              "      border-right-color: var(--fill-color);\n",
              "      border-top-color: var(--fill-color);\n",
              "    }\n",
              "    60% {\n",
              "      border-color: transparent;\n",
              "      border-right-color: var(--fill-color);\n",
              "    }\n",
              "    80% {\n",
              "      border-color: transparent;\n",
              "      border-right-color: var(--fill-color);\n",
              "      border-bottom-color: var(--fill-color);\n",
              "    }\n",
              "    90% {\n",
              "      border-color: transparent;\n",
              "      border-bottom-color: var(--fill-color);\n",
              "    }\n",
              "  }\n",
              "</style>\n",
              "\n",
              "  <script>\n",
              "    async function quickchart(key) {\n",
              "      const quickchartButtonEl =\n",
              "        document.querySelector('#' + key + ' button');\n",
              "      quickchartButtonEl.disabled = true;  // To prevent multiple clicks.\n",
              "      quickchartButtonEl.classList.add('colab-df-spinner');\n",
              "      try {\n",
              "        const charts = await google.colab.kernel.invokeFunction(\n",
              "            'suggestCharts', [key], {});\n",
              "      } catch (error) {\n",
              "        console.error('Error during call to suggestCharts:', error);\n",
              "      }\n",
              "      quickchartButtonEl.classList.remove('colab-df-spinner');\n",
              "      quickchartButtonEl.classList.add('colab-df-quickchart-complete');\n",
              "    }\n",
              "    (() => {\n",
              "      let quickchartButtonEl =\n",
              "        document.querySelector('#df-b5f56062-0178-4a79-8202-63075ef40f8f button');\n",
              "      quickchartButtonEl.style.display =\n",
              "        google.colab.kernel.accessAllowed ? 'block' : 'none';\n",
              "    })();\n",
              "  </script>\n",
              "</div>\n",
              "\n",
              "    </div>\n",
              "  </div>\n"
            ],
            "application/vnd.google.colaboratory.intrinsic+json": {
              "type": "dataframe",
              "variable_name": "results_data",
              "summary": "{\n  \"name\": \"results_data\",\n  \"rows\": 20,\n  \"fields\": [\n    {\n      \"column\": \"model\",\n      \"properties\": {\n        \"dtype\": \"category\",\n        \"num_unique_values\": 4,\n        \"samples\": [\n          \"C4.5 (Decision Tree)\",\n          \"Support Vector Machine\",\n          \"Naive Bayes\"\n        ],\n        \"semantic_type\": \"\",\n        \"description\": \"\"\n      }\n    },\n    {\n      \"column\": \"accuracy\",\n      \"properties\": {\n        \"dtype\": \"number\",\n        \"std\": 0.02956804027743389,\n        \"min\": 0.8666666666666667,\n        \"max\": 1.0,\n        \"num_unique_values\": 5,\n        \"samples\": [\n          0.9333333333333333,\n          0.9,\n          0.8666666666666667\n        ],\n        \"semantic_type\": \"\",\n        \"description\": \"\"\n      }\n    },\n    {\n      \"column\": \"precision\",\n      \"properties\": {\n        \"dtype\": \"number\",\n        \"std\": 0.024160412341248987,\n        \"min\": 0.9023569023569024,\n        \"max\": 1.0,\n        \"num_unique_values\": 6,\n        \"samples\": [\n          0.9696969696969697,\n          0.9444444444444445,\n          0.9023569023569024\n        ],\n        \"semantic_type\": \"\",\n        \"description\": \"\"\n      }\n    },\n    {\n      \"column\": \"recall\",\n      \"properties\": {\n        \"dtype\": \"number\",\n        \"std\": 0.029568040277433903,\n        \"min\": 0.8666666666666667,\n        \"max\": 1.0,\n        \"num_unique_values\": 5,\n        \"samples\": [\n          0.9333333333333332,\n          0.9,\n          0.8666666666666667\n        ],\n        \"semantic_type\": \"\",\n        \"description\": \"\"\n      }\n    },\n    {\n      \"column\": \"f1\",\n      \"properties\": {\n        \"dtype\": \"number\",\n        \"std\": 0.03048202768420561,\n        \"min\": 0.8611111111111112,\n        \"max\": 1.0,\n        \"num_unique_values\": 7,\n        \"samples\": [\n          0.9665831244778613,\n          0.9665831244778612,\n          1.0\n        ],\n        \"semantic_type\": \"\",\n        \"description\": \"\"\n      }\n    }\n  ]\n}"
            }
          },
          "metadata": {},
          "execution_count": 13
        }
      ],
      "source": [
        "results_data = pd.DataFrame(results_data)\n",
        "results_data.head()"
      ]
    },
    {
      "cell_type": "code",
      "execution_count": 14,
      "id": "ca2e51d4",
      "metadata": {
        "colab": {
          "base_uri": "https://localhost:8080/",
          "height": 1000
        },
        "id": "ca2e51d4",
        "outputId": "e5c7b302-b1f4-4c1b-f680-a68cd484fdb0"
      },
      "outputs": [
        {
          "output_type": "stream",
          "name": "stderr",
          "text": [
            "/usr/local/lib/python3.10/dist-packages/seaborn/_base.py:949: FutureWarning: When grouping with a length-1 list-like, you will need to pass a length-1 tuple to get_group in a future version of pandas. Pass `(name,)` instead of `name` to silence this warning.\n",
            "  data_subset = grouped_data.get_group(pd_key)\n",
            "/usr/local/lib/python3.10/dist-packages/seaborn/categorical.py:640: FutureWarning: SeriesGroupBy.grouper is deprecated and will be removed in a future version of pandas.\n",
            "  positions = grouped.grouper.result_index.to_numpy(dtype=float)\n",
            "/usr/local/lib/python3.10/dist-packages/seaborn/_base.py:949: FutureWarning: When grouping with a length-1 list-like, you will need to pass a length-1 tuple to get_group in a future version of pandas. Pass `(name,)` instead of `name` to silence this warning.\n",
            "  data_subset = grouped_data.get_group(pd_key)\n",
            "/usr/local/lib/python3.10/dist-packages/seaborn/categorical.py:640: FutureWarning: SeriesGroupBy.grouper is deprecated and will be removed in a future version of pandas.\n",
            "  positions = grouped.grouper.result_index.to_numpy(dtype=float)\n",
            "/usr/local/lib/python3.10/dist-packages/seaborn/_base.py:949: FutureWarning: When grouping with a length-1 list-like, you will need to pass a length-1 tuple to get_group in a future version of pandas. Pass `(name,)` instead of `name` to silence this warning.\n",
            "  data_subset = grouped_data.get_group(pd_key)\n",
            "/usr/local/lib/python3.10/dist-packages/seaborn/categorical.py:640: FutureWarning: SeriesGroupBy.grouper is deprecated and will be removed in a future version of pandas.\n",
            "  positions = grouped.grouper.result_index.to_numpy(dtype=float)\n",
            "/usr/local/lib/python3.10/dist-packages/seaborn/_base.py:949: FutureWarning: When grouping with a length-1 list-like, you will need to pass a length-1 tuple to get_group in a future version of pandas. Pass `(name,)` instead of `name` to silence this warning.\n",
            "  data_subset = grouped_data.get_group(pd_key)\n",
            "/usr/local/lib/python3.10/dist-packages/seaborn/categorical.py:640: FutureWarning: SeriesGroupBy.grouper is deprecated and will be removed in a future version of pandas.\n",
            "  positions = grouped.grouper.result_index.to_numpy(dtype=float)\n",
            "/usr/local/lib/python3.10/dist-packages/seaborn/_base.py:949: FutureWarning: When grouping with a length-1 list-like, you will need to pass a length-1 tuple to get_group in a future version of pandas. Pass `(name,)` instead of `name` to silence this warning.\n",
            "  data_subset = grouped_data.get_group(pd_key)\n",
            "/usr/local/lib/python3.10/dist-packages/seaborn/categorical.py:640: FutureWarning: SeriesGroupBy.grouper is deprecated and will be removed in a future version of pandas.\n",
            "  positions = grouped.grouper.result_index.to_numpy(dtype=float)\n",
            "/usr/local/lib/python3.10/dist-packages/seaborn/_base.py:949: FutureWarning: When grouping with a length-1 list-like, you will need to pass a length-1 tuple to get_group in a future version of pandas. Pass `(name,)` instead of `name` to silence this warning.\n",
            "  data_subset = grouped_data.get_group(pd_key)\n",
            "/usr/local/lib/python3.10/dist-packages/seaborn/categorical.py:640: FutureWarning: SeriesGroupBy.grouper is deprecated and will be removed in a future version of pandas.\n",
            "  positions = grouped.grouper.result_index.to_numpy(dtype=float)\n",
            "/usr/local/lib/python3.10/dist-packages/seaborn/_base.py:949: FutureWarning: When grouping with a length-1 list-like, you will need to pass a length-1 tuple to get_group in a future version of pandas. Pass `(name,)` instead of `name` to silence this warning.\n",
            "  data_subset = grouped_data.get_group(pd_key)\n",
            "/usr/local/lib/python3.10/dist-packages/seaborn/categorical.py:640: FutureWarning: SeriesGroupBy.grouper is deprecated and will be removed in a future version of pandas.\n",
            "  positions = grouped.grouper.result_index.to_numpy(dtype=float)\n",
            "/usr/local/lib/python3.10/dist-packages/seaborn/_base.py:949: FutureWarning: When grouping with a length-1 list-like, you will need to pass a length-1 tuple to get_group in a future version of pandas. Pass `(name,)` instead of `name` to silence this warning.\n",
            "  data_subset = grouped_data.get_group(pd_key)\n",
            "/usr/local/lib/python3.10/dist-packages/seaborn/categorical.py:640: FutureWarning: SeriesGroupBy.grouper is deprecated and will be removed in a future version of pandas.\n",
            "  positions = grouped.grouper.result_index.to_numpy(dtype=float)\n",
            "/usr/local/lib/python3.10/dist-packages/seaborn/_base.py:949: FutureWarning: When grouping with a length-1 list-like, you will need to pass a length-1 tuple to get_group in a future version of pandas. Pass `(name,)` instead of `name` to silence this warning.\n",
            "  data_subset = grouped_data.get_group(pd_key)\n",
            "/usr/local/lib/python3.10/dist-packages/seaborn/categorical.py:640: FutureWarning: SeriesGroupBy.grouper is deprecated and will be removed in a future version of pandas.\n",
            "  positions = grouped.grouper.result_index.to_numpy(dtype=float)\n",
            "/usr/local/lib/python3.10/dist-packages/seaborn/_base.py:949: FutureWarning: When grouping with a length-1 list-like, you will need to pass a length-1 tuple to get_group in a future version of pandas. Pass `(name,)` instead of `name` to silence this warning.\n",
            "  data_subset = grouped_data.get_group(pd_key)\n",
            "/usr/local/lib/python3.10/dist-packages/seaborn/categorical.py:640: FutureWarning: SeriesGroupBy.grouper is deprecated and will be removed in a future version of pandas.\n",
            "  positions = grouped.grouper.result_index.to_numpy(dtype=float)\n",
            "/usr/local/lib/python3.10/dist-packages/seaborn/_base.py:949: FutureWarning: When grouping with a length-1 list-like, you will need to pass a length-1 tuple to get_group in a future version of pandas. Pass `(name,)` instead of `name` to silence this warning.\n",
            "  data_subset = grouped_data.get_group(pd_key)\n",
            "/usr/local/lib/python3.10/dist-packages/seaborn/categorical.py:640: FutureWarning: SeriesGroupBy.grouper is deprecated and will be removed in a future version of pandas.\n",
            "  positions = grouped.grouper.result_index.to_numpy(dtype=float)\n",
            "/usr/local/lib/python3.10/dist-packages/seaborn/_base.py:949: FutureWarning: When grouping with a length-1 list-like, you will need to pass a length-1 tuple to get_group in a future version of pandas. Pass `(name,)` instead of `name` to silence this warning.\n",
            "  data_subset = grouped_data.get_group(pd_key)\n",
            "/usr/local/lib/python3.10/dist-packages/seaborn/categorical.py:640: FutureWarning: SeriesGroupBy.grouper is deprecated and will be removed in a future version of pandas.\n",
            "  positions = grouped.grouper.result_index.to_numpy(dtype=float)\n",
            "/usr/local/lib/python3.10/dist-packages/seaborn/_base.py:949: FutureWarning: When grouping with a length-1 list-like, you will need to pass a length-1 tuple to get_group in a future version of pandas. Pass `(name,)` instead of `name` to silence this warning.\n",
            "  data_subset = grouped_data.get_group(pd_key)\n",
            "/usr/local/lib/python3.10/dist-packages/seaborn/categorical.py:640: FutureWarning: SeriesGroupBy.grouper is deprecated and will be removed in a future version of pandas.\n",
            "  positions = grouped.grouper.result_index.to_numpy(dtype=float)\n",
            "/usr/local/lib/python3.10/dist-packages/seaborn/_base.py:949: FutureWarning: When grouping with a length-1 list-like, you will need to pass a length-1 tuple to get_group in a future version of pandas. Pass `(name,)` instead of `name` to silence this warning.\n",
            "  data_subset = grouped_data.get_group(pd_key)\n",
            "/usr/local/lib/python3.10/dist-packages/seaborn/categorical.py:640: FutureWarning: SeriesGroupBy.grouper is deprecated and will be removed in a future version of pandas.\n",
            "  positions = grouped.grouper.result_index.to_numpy(dtype=float)\n",
            "/usr/local/lib/python3.10/dist-packages/seaborn/_base.py:949: FutureWarning: When grouping with a length-1 list-like, you will need to pass a length-1 tuple to get_group in a future version of pandas. Pass `(name,)` instead of `name` to silence this warning.\n",
            "  data_subset = grouped_data.get_group(pd_key)\n",
            "/usr/local/lib/python3.10/dist-packages/seaborn/categorical.py:640: FutureWarning: SeriesGroupBy.grouper is deprecated and will be removed in a future version of pandas.\n",
            "  positions = grouped.grouper.result_index.to_numpy(dtype=float)\n",
            "/usr/local/lib/python3.10/dist-packages/seaborn/_base.py:949: FutureWarning: When grouping with a length-1 list-like, you will need to pass a length-1 tuple to get_group in a future version of pandas. Pass `(name,)` instead of `name` to silence this warning.\n",
            "  data_subset = grouped_data.get_group(pd_key)\n",
            "/usr/local/lib/python3.10/dist-packages/seaborn/categorical.py:640: FutureWarning: SeriesGroupBy.grouper is deprecated and will be removed in a future version of pandas.\n",
            "  positions = grouped.grouper.result_index.to_numpy(dtype=float)\n"
          ]
        },
        {
          "output_type": "display_data",
          "data": {
            "text/plain": [
              "<Figure size 2000x1000 with 4 Axes>"
            ],
            "image/png": "[encoded data removed]"
          },
          "metadata": {}
        }
      ],
      "source": [
        "fig, axs = plt.subplots(2,2)\n",
        "sns.boxplot(data=results_data, x='model', y='accuracy', palette='rocket', hue='model', ax=axs[0,0])\n",
        "sns.boxplot(data=results_data, x='model', y='precision', palette='rocket', hue='model', ax=axs[0,1])\n",
        "sns.boxplot(data=results_data, x='model', y='recall', palette='rocket', hue='model', ax=axs[1,0])\n",
        "sns.boxplot(data=results_data, x='model', y='f1', palette='rocket', hue='model', ax=axs[1,1])\n",
        "\n",
        "\n",
        "fig.set_figheight(10)\n",
        "fig.set_figwidth(20)"
      ]
    }
  ],
  "metadata": {
    "kernelspec": {
      "display_name": "Python 3 (ipykernel)",
      "language": "python",
      "name": "python3"
    },
    "language_info": {
      "codemirror_mode": {
        "name": "ipython",
        "version": 3
      },
      "file_extension": ".py",
      "mimetype": "text/x-python",
      "name": "python",
      "nbconvert_exporter": "python",
      "pygments_lexer": "ipython3",
      "version": "3.10.0"
    },
    "colab": {
      "provenance": []
    }
  },
  "nbformat": 4,
  "nbformat_minor": 5
}