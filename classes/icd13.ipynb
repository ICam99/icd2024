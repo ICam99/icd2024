{
  "cells": [
    {
      "cell_type": "markdown",
      "id": "85a1fd84-04c7-4025-a50b-150a95b1e152",
      "metadata": {
        "id": "85a1fd84-04c7-4025-a50b-150a95b1e152"
      },
      "source": [
        "# Notebook ICD - 13"
      ]
    },
    {
      "cell_type": "markdown",
      "id": "04a5d316-ef58-4363-9f2a-7fee0f0ea4b3",
      "metadata": {
        "id": "04a5d316-ef58-4363-9f2a-7fee0f0ea4b3"
      },
      "source": [
        "### Libraries"
      ]
    },
    {
      "cell_type": "code",
      "execution_count": 1,
      "id": "59b31fbf-5acf-4e22-8902-1fd5d3d85a28",
      "metadata": {
        "id": "59b31fbf-5acf-4e22-8902-1fd5d3d85a28"
      },
      "outputs": [],
      "source": [
        "import numpy as np\n",
        "import pandas as pd\n",
        "import math\n",
        "from collections import Counter"
      ]
    },
    {
      "cell_type": "markdown",
      "id": "a452ef54-64a5-4677-8a6c-c8880f30e177",
      "metadata": {
        "id": "a452ef54-64a5-4677-8a6c-c8880f30e177"
      },
      "source": [
        "## ID3 from scratch\n",
        "\n",
        "ID3 (Iterative Dichotomiser 3) was developed in 1986 by Ross Quinlan. The algorithm creates a multiway tree, finding for each node (i.e. in a greedy manner) the categorical feature that will yield the largest information gain for categorical targets. Trees are grown to their maximum size and then a pruning step is usually applied to improve the ability of the tree to generalize to unseen data.\n",
        "\n",
        "C4.5 is the successor to ID3 and removed the restriction that features must be categorical by dynamically defining a discrete attribute (based on numerical variables) that partitions the continuous attribute value into a discrete set of intervals. C4.5 converts the trained trees (i.e. the output of the ID3 algorithm) into sets of if-then rules. The accuracy of each rule is then evaluated to determine the order in which they should be applied. Pruning is done by removing a rule’s precondition if the accuracy of the rule improves without it.\n",
        "\n",
        "C5.0 is Quinlan’s latest version release under a proprietary license. It uses less memory and builds smaller rulesets than C4.5 while being more accurate."
      ]
    },
    {
      "cell_type": "markdown",
      "id": "0e664a06-16bd-4908-8695-81e0484300c6",
      "metadata": {
        "id": "0e664a06-16bd-4908-8695-81e0484300c6"
      },
      "source": [
        "### Entropy Estimation\n",
        "\n",
        "Entropy measures the uncertainty of a data set. In this function, the frequency of each class is counted and then the entropy formula is used to calculate the amount of uncertainty in the class labels. Entropy reaches its minimum value (zero) when all instances belong to a single class. Conversely, the maximum entropy (one) is obtained when there is a perfectly balanced distribution among the classes."
      ]
    },
    {
      "cell_type": "code",
      "execution_count": 2,
      "id": "e8c6f3ae-cb6e-41e9-a0b9-3a7200ea48aa",
      "metadata": {
        "id": "e8c6f3ae-cb6e-41e9-a0b9-3a7200ea48aa"
      },
      "outputs": [],
      "source": [
        "def entropy(y):\n",
        "    # Cuenta la frecuencia de una variable\n",
        "    counter = Counter(y)\n",
        "    total = len(y)\n",
        "\n",
        "    # Calcula la entropía\n",
        "    ent = 0.0\n",
        "    for count in counter.values():\n",
        "        probability = count / total\n",
        "        ent -= probability * math.log2(probability)\n",
        "    return ent"
      ]
    },
    {
      "cell_type": "markdown",
      "id": "5cb6b95e-493b-4422-98c9-5d0b51b6621a",
      "metadata": {
        "id": "5cb6b95e-493b-4422-98c9-5d0b51b6621a"
      },
      "source": [
        "### Calculate the information gain\n",
        "\n",
        "The information gain is based on the decrease in entropy by splitting the data according to an attribute. The function first calculates the total entropy of the label set and then subtracts the weighted entropy of each subset, which gives us the information gain."
      ]
    },
    {
      "cell_type": "code",
      "execution_count": 3,
      "id": "46d6f144-c305-4fad-8be8-f20aecc50e96",
      "metadata": {
        "id": "46d6f144-c305-4fad-8be8-f20aecc50e96"
      },
      "outputs": [],
      "source": [
        "def information_gain(X_column, y):\n",
        "    # Entropía del conjunto original\n",
        "    ent_total = entropy(y)\n",
        "\n",
        "    # Dividir los datos por el valor de la característica\n",
        "    values, counts = np.unique(X_column, return_counts=True)\n",
        "\n",
        "    # Entropía ponderada de los subconjuntos\n",
        "    weighted_entropy = 0.0\n",
        "    for value, count in zip(values, counts):\n",
        "        subset_y = y[X_column == value]\n",
        "        if len(subset_y) == 0:  # Verificamos si el subconjunto está vacío\n",
        "            continue\n",
        "        weighted_entropy += (count / len(y)) * entropy(subset_y)\n",
        "\n",
        "    # Ganancia de información\n",
        "    return ent_total - weighted_entropy"
      ]
    },
    {
      "cell_type": "markdown",
      "id": "f0ac9c43-0263-4edf-a551-642d47051fd3",
      "metadata": {
        "id": "f0ac9c43-0263-4edf-a551-642d47051fd3"
      },
      "source": [
        "### Select the best attribute\n",
        "\n",
        "Here we iterate over each column (attribute) in the data set to calculate the information gain. The attribute with the highest information gain is selected for partitioning."
      ]
    },
    {
      "cell_type": "code",
      "execution_count": 4,
      "id": "d7557daa-f378-4a7a-ba5a-5097a253f9cf",
      "metadata": {
        "id": "d7557daa-f378-4a7a-ba5a-5097a253f9cf"
      },
      "outputs": [],
      "source": [
        "def best_attribute(X, y):\n",
        "    best_gain = -1\n",
        "    best_attr = None\n",
        "\n",
        "    for col in X.columns:\n",
        "        gain = information_gain(X[col], y)\n",
        "        if gain > best_gain:\n",
        "            best_gain = gain\n",
        "            best_attr = col\n",
        "    return best_attr"
      ]
    },
    {
      "cell_type": "markdown",
      "id": "fd59211f-cfe1-46cb-8a89-06c06e0ee97d",
      "metadata": {
        "id": "fd59211f-cfe1-46cb-8a89-06c06e0ee97d"
      },
      "source": [
        "### Build the decision tree\n",
        "\n",
        "This is the core implementation of the ID3 algorithm. If all tags are equal, a leaf node with the class is created. If there are no attributes left, the majority class is assigned. The best attribute with the highest information gain is selected and the root node is created. Then, the data set is divided and subtrees are recursively constructed."
      ]
    },
    {
      "cell_type": "code",
      "execution_count": 5,
      "id": "32e9179a-d6f2-403f-91e4-7fe7596aa05b",
      "metadata": {
        "id": "32e9179a-d6f2-403f-91e4-7fe7596aa05b"
      },
      "outputs": [],
      "source": [
        "class Node:\n",
        "    def __init__(self, feature=None, value=None, children=None, *, label=None):\n",
        "        self.feature = feature  # El nombre del atributo\n",
        "        self.value = value  # El valor del atributo\n",
        "        self.children = children if children is not None else {}  # Subárboles\n",
        "        self.label = label  # Clase terminal\n",
        "\n",
        "def id3(X, y):\n",
        "    if len(np.unique(y)) == 1:  # Si todas las etiquetas son iguales\n",
        "        return Node(label=np.unique(y)[0])\n",
        "\n",
        "    if X.empty:  # Si no hay más atributos\n",
        "        return Node(label=Counter(y).most_common(1)[0][0])  # Retornar la clase mayoritaria\n",
        "\n",
        "    # Seleccionamos el mejor atributo\n",
        "    best_attr = best_attribute(X, y)\n",
        "\n",
        "    # Creamos el nodo\n",
        "    root = Node(feature=best_attr)\n",
        "\n",
        "    # Para cada valor posible del mejor atributo, creamos un subárbol\n",
        "    values = np.unique(X[best_attr])\n",
        "    for value in values:\n",
        "        subset_X = X[X[best_attr] == value].drop(columns=[best_attr])\n",
        "        subset_y = y[X[best_attr] == value]\n",
        "\n",
        "        if len(subset_X) == 0:\n",
        "            continue\n",
        "\n",
        "        # Llamada recursiva a id3\n",
        "        subtree = id3(subset_X, subset_y)\n",
        "        root.children[value] = subtree\n",
        "\n",
        "    return root"
      ]
    },
    {
      "cell_type": "markdown",
      "id": "cdcc993b-475a-4237-8b02-d0ac24321352",
      "metadata": {
        "id": "cdcc993b-475a-4237-8b02-d0ac24321352"
      },
      "source": [
        "### Prediction (inference) with the learned tree\n",
        "\n",
        "To make predictions, the decision tree is navigated recursively. Upon reaching a leaf node, the associated label is returned. At each internal node, the decision is made based on the attribute value."
      ]
    },
    {
      "cell_type": "code",
      "execution_count": 6,
      "id": "e7d18bfb-9f56-43cf-a348-9e8badc7a68d",
      "metadata": {
        "id": "e7d18bfb-9f56-43cf-a348-9e8badc7a68d"
      },
      "outputs": [],
      "source": [
        "def predict(tree, X_test):\n",
        "    if tree.label is not None:  # Nodo hoja\n",
        "        return tree.label\n",
        "\n",
        "    value = X_test[tree.feature]\n",
        "    if value in tree.children:\n",
        "        return predict(tree.children[value], X_test)\n",
        "    else:\n",
        "        return None"
      ]
    },
    {
      "cell_type": "markdown",
      "id": "f64d40d6-8737-4e4e-a47f-736bc6afab76",
      "metadata": {
        "id": "f64d40d6-8737-4e4e-a47f-736bc6afab76"
      },
      "source": [
        "### Implementation example\n",
        "\n",
        "The ID3 algorithm will be applied to the 'Play Tennis' dataset in order to build a decision tree to predict whether to play tennis or not based on weather conditions such as temperature, humidity and wind. The 14 available instances will serve as a training basis for the model, while a new instance, not included in the training, will be used to evaluate its performance and generalization."
      ]
    },
    {
      "cell_type": "code",
      "execution_count": 7,
      "id": "ccb9f915-6c41-479f-a1bb-27b52e3520cc",
      "metadata": {
        "colab": {
          "base_uri": "https://localhost:8080/"
        },
        "id": "ccb9f915-6c41-479f-a1bb-27b52e3520cc",
        "outputId": "953e706d-e300-4119-c7cb-bd19fc7fe4fb"
      },
      "outputs": [
        {
          "output_type": "stream",
          "name": "stdout",
          "text": [
            "Predicción para la instancia {'outlook': 'sunny', 'temperature': 'hot', 'humidity': 'normal', 'windy': True}: yes\n"
          ]
        }
      ],
      "source": [
        "data = pd.read_csv('weather.nominal.csv')\n",
        "\n",
        "# Definir X (características) e y (etiqueta)\n",
        "X = data.iloc[:, :-1]  # Todas las columnas menos la última\n",
        "y = data.iloc[:, -1]  # Última columna (etiqueta)\n",
        "\n",
        "# Entrenar el árbol de decisión usando el algoritmo ID3 con los nombres originales de las columnas\n",
        "tree = id3(X, y)\n",
        "\n",
        "# Crear la instancia para probar: sunny, hot, normal, TRUE\n",
        "test_instance = {'outlook': 'sunny', 'temperature': 'hot', 'humidity': 'normal', 'windy': True}\n",
        "\n",
        "# Realizar la predicción\n",
        "prediction = predict(tree, test_instance)\n",
        "print(f'Predicción para la instancia {test_instance}: {prediction}')"
      ]
    },
    {
      "cell_type": "markdown",
      "id": "e6eddcf4-05e5-40ea-9cf1-7150dc4485ea",
      "metadata": {
        "id": "e6eddcf4-05e5-40ea-9cf1-7150dc4485ea"
      },
      "source": [
        "## Scikit-learn implementation\n",
        "\n",
        "CART (Classification and Regression Trees) is very similar to C4.5, but it differs in that it supports numerical target variables (regression) and does not compute rule sets. CART constructs binary trees using the feature and threshold that yield the largest information gain at each node. Scikit-learn uses an optimized version of the CART algorithm."
      ]
    },
    {
      "cell_type": "markdown",
      "id": "e517e961-c76e-4bf5-a115-7f816df754b9",
      "metadata": {
        "id": "e517e961-c76e-4bf5-a115-7f816df754b9"
      },
      "source": [
        "### Library"
      ]
    },
    {
      "cell_type": "code",
      "execution_count": 8,
      "id": "9bd230f6-f7f7-4476-9510-de08a10ad083",
      "metadata": {
        "id": "9bd230f6-f7f7-4476-9510-de08a10ad083"
      },
      "outputs": [],
      "source": [
        "from sklearn.tree import DecisionTreeClassifier"
      ]
    },
    {
      "cell_type": "markdown",
      "id": "5aab3690-420e-4ac4-bcb7-5db3fe4dce82",
      "metadata": {
        "id": "5aab3690-420e-4ac4-bcb7-5db3fe4dce82"
      },
      "source": [
        "### Dataset"
      ]
    },
    {
      "cell_type": "code",
      "execution_count": 9,
      "id": "bd3e6290-3f3a-4618-a827-2948f36ef6c2",
      "metadata": {
        "id": "bd3e6290-3f3a-4618-a827-2948f36ef6c2"
      },
      "outputs": [],
      "source": [
        "df = pd.read_csv(r'weather.numeric.csv')"
      ]
    },
    {
      "cell_type": "markdown",
      "id": "94c1f8b8-f1dd-4a8b-acf4-c6370dc26ca7",
      "metadata": {
        "id": "94c1f8b8-f1dd-4a8b-acf4-c6370dc26ca7"
      },
      "source": [
        "Show dataset"
      ]
    },
    {
      "cell_type": "code",
      "execution_count": 10,
      "id": "9f9d98b6-cfb0-4f7f-8484-63e59c8e5c16",
      "metadata": {
        "colab": {
          "base_uri": "https://localhost:8080/"
        },
        "id": "9f9d98b6-cfb0-4f7f-8484-63e59c8e5c16",
        "outputId": "9abce1d2-187b-42f9-f0ec-4b7823a3e153"
      },
      "outputs": [
        {
          "output_type": "stream",
          "name": "stdout",
          "text": [
            "    Day   Outlook  Temperature  Humidity    Wind   Play\n",
            "0     1     sunny           85        85    weak  False\n",
            "1     2     sunny           80        90  strong  False\n",
            "2     3  overcast           83        86    weak   True\n",
            "3     4      rain           70        96    weak   True\n",
            "4     5      rain           68        80    weak   True\n",
            "5     6      rain           65        70  strong  False\n",
            "6     7  overcast           64        65  strong   True\n",
            "7     8     sunny           72        95    weak  False\n",
            "8     9     sunny           69        70    weak   True\n",
            "9    10      rain           75        80    weak   True\n",
            "10   11     sunny           75        70  strong   True\n",
            "11   12  overcast           72        90  strong   True\n",
            "12   13  overcast           81        75    weak   True\n",
            "13   14      rain           71        91  strong  False\n"
          ]
        }
      ],
      "source": [
        "print(df)"
      ]
    },
    {
      "cell_type": "code",
      "execution_count": 11,
      "id": "a1116a5d-0c02-4315-bbe6-7004d0f36755",
      "metadata": {
        "colab": {
          "base_uri": "https://localhost:8080/"
        },
        "id": "a1116a5d-0c02-4315-bbe6-7004d0f36755",
        "outputId": "deeedefe-aaed-453e-a685-5ea81232ebc1"
      },
      "outputs": [
        {
          "output_type": "stream",
          "name": "stdout",
          "text": [
            "    Outlook  Temperature  Humidity    Wind\n",
            "0     sunny           85        85    weak\n",
            "1     sunny           80        90  strong\n",
            "2  overcast           83        86    weak\n",
            "3      rain           70        96    weak\n",
            "4      rain           68        80    weak\n",
            "    Play\n",
            "0  False\n",
            "1  False\n",
            "2   True\n",
            "3   True\n",
            "4   True\n"
          ]
        }
      ],
      "source": [
        "# defining the dependent and independent variables\n",
        "X_train = df[['Outlook', 'Temperature', 'Humidity', 'Wind']]\n",
        "y_train = df[['Play']]\n",
        "\n",
        "print(X_train.head())\n",
        "print(y_train.head())"
      ]
    },
    {
      "cell_type": "markdown",
      "id": "9fe8d45c-cde8-43bb-a452-6d144ede0ef3",
      "metadata": {
        "id": "9fe8d45c-cde8-43bb-a452-6d144ede0ef3"
      },
      "source": [
        "### From categorical to numeric"
      ]
    },
    {
      "cell_type": "markdown",
      "id": "77252e77-f84f-469d-9793-c6f735ab22b7",
      "metadata": {
        "id": "77252e77-f84f-469d-9793-c6f735ab22b7"
      },
      "source": [
        "Scikit-learn uses an optimized version of the CART algorithm; however, the scikit-learn implementation does not support categorical variables for now"
      ]
    },
    {
      "cell_type": "code",
      "execution_count": 12,
      "id": "019663c8-3683-4c65-9884-b0d6119725f1",
      "metadata": {
        "colab": {
          "base_uri": "https://localhost:8080/"
        },
        "id": "019663c8-3683-4c65-9884-b0d6119725f1",
        "outputId": "933e124f-4eb7-4f3d-fc50-29f4fa40c61b"
      },
      "outputs": [
        {
          "output_type": "stream",
          "name": "stdout",
          "text": [
            "['sunny', 'sunny', 'overcast', 'rain', 'rain', 'rain', 'overcast', 'sunny', 'sunny', 'rain', 'sunny', 'overcast', 'overcast', 'rain']\n",
            "[2 2 0 1 1 1 0 2 2 1 2 0 0 1]\n",
            "['weak', 'strong', 'weak', 'weak', 'weak', 'strong', 'strong', 'weak', 'weak', 'weak', 'strong', 'strong', 'weak', 'strong']\n",
            "[1 0 1 1 1 0 0 1 1 1 0 0 1 0]\n"
          ]
        }
      ],
      "source": [
        "from sklearn.preprocessing import LabelEncoder\n",
        "encoder = LabelEncoder()\n",
        "\n",
        "outlook = X_train.iloc[:,0]\n",
        "outlook_enc = encoder.fit_transform(outlook)\n",
        "print(outlook.tolist())\n",
        "print(outlook_enc)\n",
        "\n",
        "wind = X_train.iloc[:,3]\n",
        "wind_enc = encoder.fit_transform(wind)\n",
        "print(wind.tolist())\n",
        "print(wind_enc)"
      ]
    },
    {
      "cell_type": "code",
      "execution_count": 13,
      "id": "06c1b430-f87d-4620-9d93-39efcbe24b6e",
      "metadata": {
        "colab": {
          "base_uri": "https://localhost:8080/"
        },
        "id": "06c1b430-f87d-4620-9d93-39efcbe24b6e",
        "outputId": "a4e97f95-781b-49be-cb28-3f6a1d07dad6"
      },
      "outputs": [
        {
          "output_type": "stream",
          "name": "stdout",
          "text": [
            "    Outlook  Temperature  Humidity  Wind\n",
            "0         2           85        85     2\n",
            "1         2           80        90     2\n",
            "2         0           83        86     0\n",
            "3         1           70        96     1\n",
            "4         1           68        80     1\n",
            "5         1           65        70     1\n",
            "6         0           64        65     0\n",
            "7         2           72        95     2\n",
            "8         2           69        70     2\n",
            "9         1           75        80     1\n",
            "10        2           75        70     2\n",
            "11        0           72        90     0\n",
            "12        0           81        75     0\n",
            "13        1           71        91     1\n"
          ]
        }
      ],
      "source": [
        "df_outlook = pd.DataFrame(outlook_enc, columns = ['Outlook'])\n",
        "df_wind = pd.DataFrame(outlook_enc, columns = ['Wind'])\n",
        "X_train_num = pd.concat([df_outlook, X_train.iloc[:,1], X_train.iloc[:,2], df_wind], axis=1)\n",
        "print(X_train_num)"
      ]
    },
    {
      "cell_type": "markdown",
      "id": "7daff3dc-d455-45b2-ab70-5f7a5320d9e0",
      "metadata": {
        "id": "7daff3dc-d455-45b2-ab70-5f7a5320d9e0"
      },
      "source": [
        "### Build the decision tree"
      ]
    },
    {
      "cell_type": "code",
      "execution_count": 14,
      "id": "0b6b3869-1a3e-4db9-a107-82514c342577",
      "metadata": {
        "id": "0b6b3869-1a3e-4db9-a107-82514c342577"
      },
      "outputs": [],
      "source": [
        "clf = DecisionTreeClassifier().fit(X_train_num, y_train)"
      ]
    },
    {
      "cell_type": "markdown",
      "id": "38f1c331-ad34-4ef9-a6b5-9410dbf02112",
      "metadata": {
        "id": "38f1c331-ad34-4ef9-a6b5-9410dbf02112"
      },
      "source": [
        "Visualizing the model"
      ]
    },
    {
      "cell_type": "code",
      "execution_count": 15,
      "id": "b779646d-491a-4125-935c-065927ba8fbb",
      "metadata": {
        "colab": {
          "base_uri": "https://localhost:8080/"
        },
        "id": "b779646d-491a-4125-935c-065927ba8fbb",
        "outputId": "39206cd9-4ea8-4a62-9868-cd43c76fd653"
      },
      "outputs": [
        {
          "output_type": "stream",
          "name": "stdout",
          "text": [
            "|--- Outlook <= 0.50\n",
            "|   |--- class: True\n",
            "|--- Outlook >  0.50\n",
            "|   |--- Humidity <= 82.50\n",
            "|   |   |--- Temperature <= 66.50\n",
            "|   |   |   |--- class: False\n",
            "|   |   |--- Temperature >  66.50\n",
            "|   |   |   |--- class: True\n",
            "|   |--- Humidity >  82.50\n",
            "|   |   |--- Temperature <= 70.50\n",
            "|   |   |   |--- class: True\n",
            "|   |   |--- Temperature >  70.50\n",
            "|   |   |   |--- class: False\n",
            "\n"
          ]
        }
      ],
      "source": [
        "from sklearn import tree\n",
        "features = X_train_num.columns.values.tolist()\n",
        "text_representation = tree.export_text(clf, feature_names = features)\n",
        "print(text_representation)"
      ]
    },
    {
      "cell_type": "code",
      "execution_count": 16,
      "id": "8b82d5f9-6686-4c2a-b6cd-3a8b50118616",
      "metadata": {
        "colab": {
          "base_uri": "https://localhost:8080/",
          "height": 406
        },
        "id": "8b82d5f9-6686-4c2a-b6cd-3a8b50118616",
        "outputId": "9df1f5dc-b043-4347-967b-887d06d5793a"
      },
      "outputs": [
        {
          "output_type": "display_data",
          "data": {
            "text/plain": [
              "<Figure size 640x480 with 1 Axes>"
            ],
            "image/png": "[encoded data removed]"
          },
          "metadata": {}
        }
      ],
      "source": [
        "from matplotlib import pyplot as plt\n",
        "fig = tree.plot_tree(clf,\n",
        "                   feature_names = X_train_num.columns.values,\n",
        "                   class_names = ['False','True'],\n",
        "                   filled=True)"
      ]
    },
    {
      "cell_type": "markdown",
      "id": "ea696819-939d-417d-ab64-1f90101ea5be",
      "metadata": {
        "id": "ea696819-939d-417d-ab64-1f90101ea5be"
      },
      "source": [
        "### Evaluating model with new instance"
      ]
    },
    {
      "cell_type": "code",
      "execution_count": 17,
      "id": "8019757e-19db-4192-b239-26d2aa9c3cc9",
      "metadata": {
        "colab": {
          "base_uri": "https://localhost:8080/"
        },
        "id": "8019757e-19db-4192-b239-26d2aa9c3cc9",
        "outputId": "56f6b102-77f0-453e-fd66-0c089bfd914d"
      },
      "outputs": [
        {
          "output_type": "stream",
          "name": "stdout",
          "text": [
            "   Outlook  Temperature  Humidity  Wind\n",
            "0        2           60        65     1\n"
          ]
        },
        {
          "output_type": "execute_result",
          "data": {
            "text/plain": [
              "array([False])"
            ]
          },
          "metadata": {},
          "execution_count": 17
        }
      ],
      "source": [
        "# sunny:2, hot:85, normal:65, strong:0\n",
        "new_example = [[2, 60, 65, 1]]\n",
        "X_test = pd.DataFrame(new_example, columns = ['Outlook', 'Temperature', 'Humidity', 'Wind'])\n",
        "print(X_test)\n",
        "clf.predict(X_test)"
      ]
    }
  ],
  "metadata": {
    "kernelspec": {
      "display_name": "Python 3 (ipykernel)",
      "language": "python",
      "name": "python3"
    },
    "language_info": {
      "codemirror_mode": {
        "name": "ipython",
        "version": 3
      },
      "file_extension": ".py",
      "mimetype": "text/x-python",
      "name": "python",
      "nbconvert_exporter": "python",
      "pygments_lexer": "ipython3",
      "version": "3.9.5"
    },
    "colab": {
      "provenance": []
    }
  },
  "nbformat": 4,
  "nbformat_minor": 5
}